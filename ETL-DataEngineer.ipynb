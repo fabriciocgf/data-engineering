{
 "cells": [
  {
   "cell_type": "markdown",
   "metadata": {},
   "source": [
    "#### Imports"
   ]
  },
  {
   "cell_type": "code",
   "execution_count": 50,
   "metadata": {},
   "outputs": [],
   "source": [
    "import pandas as pd\n",
    "import json\n",
    "from sqlalchemy import create_engine, Column, Integer, String, Sequence, Float,PrimaryKeyConstraint, ForeignKey\n",
    "from sqlalchemy.ext.declarative import declarative_base\n",
    "from sqlalchemy.orm import sessionmaker, relationship, backref\n",
    "from sqlalchemy.sql import *\n",
    "import pymysql"
   ]
  },
  {
   "cell_type": "markdown",
   "metadata": {},
   "source": [
    "## Conhecendo os dados"
   ]
  },
  {
   "cell_type": "code",
   "execution_count": 2,
   "metadata": {},
   "outputs": [
    {
     "name": "stdout",
     "output_type": "stream",
     "text": [
      "{\"request\":{\"method\":\"GET\",\"uri\":\"\\/\",\"url\":\"http:\\/\\/yost.com\",\"size\":174,\"querystring\":[],\"headers\":{\"accept\":\"*\\/*\",\"host\":\"yost.com\",\"user-agent\":\"curl\\/7.37.1\"}},\"upstream_uri\":\"\\/\",\"response\":{\"status\":500,\"size\":878,\"headers\":{\"Content-Length\":\"197\",\"via\":\"kong\\/1.3.0\",\"Connection\":\"close\",\"access-control-allow-credentials\":\"true\",\"Content-Type\":\"application\\/json\",\"server\":\"nginx\",\"access-control-allow-origin\":\"*\"}},\"authenticated_entity\":{\"consumer_id\":{\"uuid\":\"72b34d31-4c14-3bae-9cc6-516a0939c9d6\"}},\"route\":{\"created_at\":1564823899,\"hosts\":\"miller.com\",\"id\":\"0636a119-b7ee-3828-ae83-5f7ebbb99831\",\"methods\":[\"GET\",\"POST\",\"PUT\",\"DELETE\",\"PATCH\",\"OPTIONS\",\"HEAD\"],\"paths\":[\"\\/\"],\"preserve_host\":false,\"protocols\":[\"http\",\"https\"],\"regex_priority\":0,\"service\":{\"id\":\"c3e86413-648a-3552-90c3-b13491ee07d6\"},\"strip_path\":true,\"updated_at\":1564823899},\"service\":{\"connect_timeout\":60000,\"created_at\":1563589483,\"host\":\"ritchie.com\",\"id\":\"c3e86413-648a-3552-90c3-b13491ee07d6\",\"name\":\"ritchie\",\"path\":\"\\/\",\"port\":80,\"protocol\":\"http\",\"read_timeout\":60000,\"retries\":5,\"updated_at\":1563589483,\"write_timeout\":60000},\"latencies\":{\"proxy\":1836,\"kong\":8,\"request\":1058},\"client_ip\":\"75.241.168.121\",\"started_at\":1566660387}\n",
      "\n"
     ]
    }
   ],
   "source": [
    "file = open('logs.txt', 'r')\n",
    "json_list = file.readlines()\n",
    "file.close()\n",
    "print(json_list[0])"
   ]
  },
  {
   "cell_type": "code",
   "execution_count": 6,
   "metadata": {},
   "outputs": [
    {
     "name": "stdout",
     "output_type": "stream",
     "text": [
      "usuario\n",
      "72b34d31-4c14-3bae-9cc6-516a0939c9d6\n",
      "----------------------------\n",
      "serviço\n",
      "c3e86413-648a-3552-90c3-b13491ee07d6\n",
      "ritchie.com\n",
      "ritchie\n",
      "----------------------------\n",
      "latencias\n",
      "1836\n",
      "8\n",
      "1058\n",
      "----------------------------\n",
      "requisicao\n",
      "yost.com\n",
      "----------------------------\n",
      "{'consumer_id': '72b34d31-4c14-3bae-9cc6-516a0939c9d6', 'service_id': 'c3e86413-648a-3552-90c3-b13491ee07d6', 'proxy': 1836, 'kong': 8, 'request': 1058, 'host': 'ritchie.com', 'name': 'ritchie', 'request_host': 'yost.com'}\n"
     ]
    }
   ],
   "source": [
    "data = json.loads(json_list[0])\n",
    "print('usuario')\n",
    "print(data[\"authenticated_entity\"][\"consumer_id\"][\"uuid\"])\n",
    "print('----------------------------')\n",
    "print('serviço')\n",
    "print(data[\"service\"][\"id\"])\n",
    "print(data[\"service\"][\"host\"])\n",
    "print(data[\"service\"][\"name\"])\n",
    "print('----------------------------')\n",
    "print('latencias')\n",
    "print(data[\"latencies\"][\"proxy\"])\n",
    "print(data[\"latencies\"][\"kong\"])\n",
    "print(data[\"latencies\"][\"request\"])\n",
    "print('----------------------------')\n",
    "print('requisicao')\n",
    "print(data[\"request\"][\"headers\"][\"host\"])\n",
    "print('----------------------------')\n",
    "serie = {\n",
    "    'consumer_id':data[\"authenticated_entity\"][\"consumer_id\"][\"uuid\"],\n",
    "    'service_id':data[\"service\"][\"id\"],\n",
    "    'proxy':data[\"latencies\"][\"proxy\"],\n",
    "    'kong':data[\"latencies\"][\"kong\"],\n",
    "    'request':data[\"latencies\"][\"request\"],\n",
    "    'host':data[\"service\"][\"host\"],\n",
    "    'name':data[\"service\"][\"name\"],\n",
    "    'request_host':data[\"request\"][\"headers\"][\"host\"]\n",
    "    }\n",
    "print(serie)"
   ]
  },
  {
   "cell_type": "code",
   "execution_count": 7,
   "metadata": {},
   "outputs": [
    {
     "data": {
      "text/html": [
       "<div>\n",
       "<style scoped>\n",
       "    .dataframe tbody tr th:only-of-type {\n",
       "        vertical-align: middle;\n",
       "    }\n",
       "\n",
       "    .dataframe tbody tr th {\n",
       "        vertical-align: top;\n",
       "    }\n",
       "\n",
       "    .dataframe thead th {\n",
       "        text-align: right;\n",
       "    }\n",
       "</style>\n",
       "<table border=\"1\" class=\"dataframe\">\n",
       "  <thead>\n",
       "    <tr style=\"text-align: right;\">\n",
       "      <th></th>\n",
       "      <th>consumer_id</th>\n",
       "      <th>service_id</th>\n",
       "      <th>proxy</th>\n",
       "      <th>kong</th>\n",
       "      <th>request</th>\n",
       "      <th>host</th>\n",
       "      <th>name</th>\n",
       "      <th>request_host</th>\n",
       "    </tr>\n",
       "  </thead>\n",
       "  <tbody>\n",
       "    <tr>\n",
       "      <th>0</th>\n",
       "      <td>72b34d31-4c14-3bae-9cc6-516a0939c9d6</td>\n",
       "      <td>c3e86413-648a-3552-90c3-b13491ee07d6</td>\n",
       "      <td>1836</td>\n",
       "      <td>8</td>\n",
       "      <td>1058</td>\n",
       "      <td>ritchie.com</td>\n",
       "      <td>ritchie</td>\n",
       "      <td>yost.com</td>\n",
       "    </tr>\n",
       "  </tbody>\n",
       "</table>\n",
       "</div>"
      ],
      "text/plain": [
       "                            consumer_id                            service_id  \\\n",
       "0  72b34d31-4c14-3bae-9cc6-516a0939c9d6  c3e86413-648a-3552-90c3-b13491ee07d6   \n",
       "\n",
       "  proxy kong request         host     name request_host  \n",
       "0  1836    8    1058  ritchie.com  ritchie     yost.com  "
      ]
     },
     "execution_count": 7,
     "metadata": {},
     "output_type": "execute_result"
    }
   ],
   "source": [
    "df = pd.DataFrame(columns = ['consumer_id','service_id','proxy','kong','request','host','name','request_host'])\n",
    "df = df.append(serie,ignore_index=True)\n",
    "df.head()"
   ]
  },
  {
   "cell_type": "markdown",
   "metadata": {},
   "source": [
    "## Extraindo dados relevantes"
   ]
  },
  {
   "cell_type": "code",
   "execution_count": 38,
   "metadata": {},
   "outputs": [
    {
     "name": "stdout",
     "output_type": "stream",
     "text": [
      "100000\n",
      "Wall time: 4.59 s\n"
     ]
    },
    {
     "data": {
      "text/html": [
       "<div>\n",
       "<style scoped>\n",
       "    .dataframe tbody tr th:only-of-type {\n",
       "        vertical-align: middle;\n",
       "    }\n",
       "\n",
       "    .dataframe tbody tr th {\n",
       "        vertical-align: top;\n",
       "    }\n",
       "\n",
       "    .dataframe thead th {\n",
       "        text-align: right;\n",
       "    }\n",
       "</style>\n",
       "<table border=\"1\" class=\"dataframe\">\n",
       "  <thead>\n",
       "    <tr style=\"text-align: right;\">\n",
       "      <th></th>\n",
       "      <th>consumer_id</th>\n",
       "      <th>service_id</th>\n",
       "      <th>proxy</th>\n",
       "      <th>kong</th>\n",
       "      <th>request</th>\n",
       "      <th>host</th>\n",
       "      <th>name</th>\n",
       "      <th>request_host</th>\n",
       "    </tr>\n",
       "  </thead>\n",
       "  <tbody>\n",
       "    <tr>\n",
       "      <th>1</th>\n",
       "      <td>72b34d31-4c14-3bae-9cc6-516a0939c9d6</td>\n",
       "      <td>c3e86413-648a-3552-90c3-b13491ee07d6</td>\n",
       "      <td>1836</td>\n",
       "      <td>8</td>\n",
       "      <td>1058</td>\n",
       "      <td>ritchie.com</td>\n",
       "      <td>ritchie</td>\n",
       "      <td>yost.com</td>\n",
       "    </tr>\n",
       "    <tr>\n",
       "      <th>2</th>\n",
       "      <td>f643db14-a82d-30c2-8c13-889db1d0fcc2</td>\n",
       "      <td>d035ffcf-914a-3007-b028-ae18f04d75b4</td>\n",
       "      <td>1727</td>\n",
       "      <td>10</td>\n",
       "      <td>2185</td>\n",
       "      <td>terry.org</td>\n",
       "      <td>terry</td>\n",
       "      <td>labadie.com</td>\n",
       "    </tr>\n",
       "    <tr>\n",
       "      <th>3</th>\n",
       "      <td>beceaa24-823b-3bf9-9ae6-c8dada26b264</td>\n",
       "      <td>a5bf08bd-c030-30d5-8009-83a8c30103bf</td>\n",
       "      <td>896</td>\n",
       "      <td>9</td>\n",
       "      <td>2129</td>\n",
       "      <td>orn.com</td>\n",
       "      <td>orn</td>\n",
       "      <td>wisozk.biz</td>\n",
       "    </tr>\n",
       "    <tr>\n",
       "      <th>4</th>\n",
       "      <td>7ba24e1f-ed19-31b2-a4be-4114721d63af</td>\n",
       "      <td>22f8e3a6-01f7-3264-b4b5-9d178df11d06</td>\n",
       "      <td>1209</td>\n",
       "      <td>12</td>\n",
       "      <td>1274</td>\n",
       "      <td>sauer.com</td>\n",
       "      <td>sauer</td>\n",
       "      <td>veum.org</td>\n",
       "    </tr>\n",
       "    <tr>\n",
       "      <th>5</th>\n",
       "      <td>1696f3c4-7732-38f2-9ba8-0eeca8df05d7</td>\n",
       "      <td>22f8e3a6-01f7-3264-b4b5-9d178df11d06</td>\n",
       "      <td>1708</td>\n",
       "      <td>20</td>\n",
       "      <td>2244</td>\n",
       "      <td>sauer.com</td>\n",
       "      <td>sauer</td>\n",
       "      <td>ledner.com</td>\n",
       "    </tr>\n",
       "  </tbody>\n",
       "</table>\n",
       "</div>"
      ],
      "text/plain": [
       "                            consumer_id                            service_id  \\\n",
       "1  72b34d31-4c14-3bae-9cc6-516a0939c9d6  c3e86413-648a-3552-90c3-b13491ee07d6   \n",
       "2  f643db14-a82d-30c2-8c13-889db1d0fcc2  d035ffcf-914a-3007-b028-ae18f04d75b4   \n",
       "3  beceaa24-823b-3bf9-9ae6-c8dada26b264  a5bf08bd-c030-30d5-8009-83a8c30103bf   \n",
       "4  7ba24e1f-ed19-31b2-a4be-4114721d63af  22f8e3a6-01f7-3264-b4b5-9d178df11d06   \n",
       "5  1696f3c4-7732-38f2-9ba8-0eeca8df05d7  22f8e3a6-01f7-3264-b4b5-9d178df11d06   \n",
       "\n",
       "  proxy kong request         host     name request_host  \n",
       "1  1836    8    1058  ritchie.com  ritchie     yost.com  \n",
       "2  1727   10    2185    terry.org    terry  labadie.com  \n",
       "3   896    9    2129      orn.com      orn   wisozk.biz  \n",
       "4  1209   12    1274    sauer.com    sauer     veum.org  \n",
       "5  1708   20    2244    sauer.com    sauer   ledner.com  "
      ]
     },
     "execution_count": 38,
     "metadata": {},
     "output_type": "execute_result"
    }
   ],
   "source": [
    "%%time\n",
    "df = pd.DataFrame(columns = ['consumer_id','service_id','proxy','kong','request','host','name','request_host'])\n",
    "serie_list = []\n",
    "for json_str in json_list:\n",
    "    data = json.loads(json_str)\n",
    "    serie = {\n",
    "    'consumer_id':data[\"authenticated_entity\"][\"consumer_id\"][\"uuid\"],\n",
    "    'service_id':data[\"service\"][\"id\"],\n",
    "    'proxy':data[\"latencies\"][\"proxy\"],\n",
    "    'kong':data[\"latencies\"][\"kong\"],\n",
    "    'request':data[\"latencies\"][\"request\"],\n",
    "    'host':data[\"service\"][\"host\"],\n",
    "    'name':data[\"service\"][\"name\"],\n",
    "    'request_host':data[\"request\"][\"headers\"][\"host\"]\n",
    "    }\n",
    "    serie_list.append(serie)\n",
    "    \n",
    "df = df.append(serie_list,ignore_index=True)\n",
    "print(len(df))\n",
    "df.index += 1\n",
    "df.head()"
   ]
  },
  {
   "cell_type": "markdown",
   "metadata": {},
   "source": [
    "## Aplicando transformações nos dados"
   ]
  },
  {
   "cell_type": "markdown",
   "metadata": {},
   "source": [
    "### Tabela de serviços"
   ]
  },
  {
   "cell_type": "code",
   "execution_count": 39,
   "metadata": {},
   "outputs": [
    {
     "name": "stdout",
     "output_type": "stream",
     "text": [
      "{'c3e86413-648a-3552-90c3-b13491ee07d6': 1, 'd035ffcf-914a-3007-b028-ae18f04d75b4': 2, 'a5bf08bd-c030-30d5-8009-83a8c30103bf': 3, '22f8e3a6-01f7-3264-b4b5-9d178df11d06': 4, 'eb1ce287-5797-3e45-b9a6-e6d51691257e': 5}\n"
     ]
    },
    {
     "data": {
      "text/html": [
       "<div>\n",
       "<style scoped>\n",
       "    .dataframe tbody tr th:only-of-type {\n",
       "        vertical-align: middle;\n",
       "    }\n",
       "\n",
       "    .dataframe tbody tr th {\n",
       "        vertical-align: top;\n",
       "    }\n",
       "\n",
       "    .dataframe thead th {\n",
       "        text-align: right;\n",
       "    }\n",
       "</style>\n",
       "<table border=\"1\" class=\"dataframe\">\n",
       "  <thead>\n",
       "    <tr style=\"text-align: right;\">\n",
       "      <th></th>\n",
       "      <th>service_id</th>\n",
       "      <th>host</th>\n",
       "      <th>name</th>\n",
       "    </tr>\n",
       "  </thead>\n",
       "  <tbody>\n",
       "    <tr>\n",
       "      <th>1</th>\n",
       "      <td>c3e86413-648a-3552-90c3-b13491ee07d6</td>\n",
       "      <td>ritchie.com</td>\n",
       "      <td>ritchie</td>\n",
       "    </tr>\n",
       "    <tr>\n",
       "      <th>2</th>\n",
       "      <td>d035ffcf-914a-3007-b028-ae18f04d75b4</td>\n",
       "      <td>terry.org</td>\n",
       "      <td>terry</td>\n",
       "    </tr>\n",
       "    <tr>\n",
       "      <th>3</th>\n",
       "      <td>a5bf08bd-c030-30d5-8009-83a8c30103bf</td>\n",
       "      <td>orn.com</td>\n",
       "      <td>orn</td>\n",
       "    </tr>\n",
       "    <tr>\n",
       "      <th>4</th>\n",
       "      <td>22f8e3a6-01f7-3264-b4b5-9d178df11d06</td>\n",
       "      <td>sauer.com</td>\n",
       "      <td>sauer</td>\n",
       "    </tr>\n",
       "    <tr>\n",
       "      <th>5</th>\n",
       "      <td>eb1ce287-5797-3e45-b9a6-e6d51691257e</td>\n",
       "      <td>corkery.com</td>\n",
       "      <td>corkery</td>\n",
       "    </tr>\n",
       "  </tbody>\n",
       "</table>\n",
       "</div>"
      ],
      "text/plain": [
       "                             service_id         host     name\n",
       "1  c3e86413-648a-3552-90c3-b13491ee07d6  ritchie.com  ritchie\n",
       "2  d035ffcf-914a-3007-b028-ae18f04d75b4    terry.org    terry\n",
       "3  a5bf08bd-c030-30d5-8009-83a8c30103bf      orn.com      orn\n",
       "4  22f8e3a6-01f7-3264-b4b5-9d178df11d06    sauer.com    sauer\n",
       "5  eb1ce287-5797-3e45-b9a6-e6d51691257e  corkery.com  corkery"
      ]
     },
     "execution_count": 39,
     "metadata": {},
     "output_type": "execute_result"
    }
   ],
   "source": [
    "servicos = df.drop_duplicates(subset=['service_id']).reset_index(drop=True)\\\n",
    ".drop(['consumer_id','proxy','kong','request','request_host'], axis=1)\n",
    "servicos.index += 1\n",
    "servicos_map = servicos['service_id'].to_dict()\n",
    "servicos_inv_map = {v: k for k, v in servicos_map.items()}\n",
    "servicos.head()"
   ]
  },
  {
   "cell_type": "markdown",
   "metadata": {},
   "source": [
    "### Tabela de Consumidores"
   ]
  },
  {
   "cell_type": "code",
   "execution_count": 41,
   "metadata": {},
   "outputs": [
    {
     "name": "stdout",
     "output_type": "stream",
     "text": [
      "9999\n"
     ]
    },
    {
     "data": {
      "text/html": [
       "<div>\n",
       "<style scoped>\n",
       "    .dataframe tbody tr th:only-of-type {\n",
       "        vertical-align: middle;\n",
       "    }\n",
       "\n",
       "    .dataframe tbody tr th {\n",
       "        vertical-align: top;\n",
       "    }\n",
       "\n",
       "    .dataframe thead th {\n",
       "        text-align: right;\n",
       "    }\n",
       "</style>\n",
       "<table border=\"1\" class=\"dataframe\">\n",
       "  <thead>\n",
       "    <tr style=\"text-align: right;\">\n",
       "      <th></th>\n",
       "      <th>consumer_id</th>\n",
       "    </tr>\n",
       "  </thead>\n",
       "  <tbody>\n",
       "    <tr>\n",
       "      <th>1</th>\n",
       "      <td>72b34d31-4c14-3bae-9cc6-516a0939c9d6</td>\n",
       "    </tr>\n",
       "    <tr>\n",
       "      <th>2</th>\n",
       "      <td>f643db14-a82d-30c2-8c13-889db1d0fcc2</td>\n",
       "    </tr>\n",
       "    <tr>\n",
       "      <th>3</th>\n",
       "      <td>beceaa24-823b-3bf9-9ae6-c8dada26b264</td>\n",
       "    </tr>\n",
       "    <tr>\n",
       "      <th>4</th>\n",
       "      <td>7ba24e1f-ed19-31b2-a4be-4114721d63af</td>\n",
       "    </tr>\n",
       "    <tr>\n",
       "      <th>5</th>\n",
       "      <td>1696f3c4-7732-38f2-9ba8-0eeca8df05d7</td>\n",
       "    </tr>\n",
       "  </tbody>\n",
       "</table>\n",
       "</div>"
      ],
      "text/plain": [
       "                            consumer_id\n",
       "1  72b34d31-4c14-3bae-9cc6-516a0939c9d6\n",
       "2  f643db14-a82d-30c2-8c13-889db1d0fcc2\n",
       "3  beceaa24-823b-3bf9-9ae6-c8dada26b264\n",
       "4  7ba24e1f-ed19-31b2-a4be-4114721d63af\n",
       "5  1696f3c4-7732-38f2-9ba8-0eeca8df05d7"
      ]
     },
     "execution_count": 41,
     "metadata": {},
     "output_type": "execute_result"
    }
   ],
   "source": [
    "costumer = df.drop_duplicates(subset=['consumer_id']).reset_index(drop=True)\\\n",
    ".drop(['service_id','proxy','kong','request','host','name','request_host'], axis=1)\n",
    "costumer.index += 1\n",
    "print(len(costumer))\n",
    "costumer_map = costumer['consumer_id'].to_dict()\n",
    "costumer_inv_map = {v: k for k, v in costumer_map.items()}\n",
    "#print(costumer_inv_map)\n",
    "costumer.head()"
   ]
  },
  {
   "cell_type": "markdown",
   "metadata": {},
   "source": [
    "### Tabela de Requisições"
   ]
  },
  {
   "cell_type": "code",
   "execution_count": 43,
   "metadata": {},
   "outputs": [
    {
     "name": "stdout",
     "output_type": "stream",
     "text": [
      "9999\n",
      "Wall time: 1min 14s\n"
     ]
    },
    {
     "data": {
      "text/html": [
       "<div>\n",
       "<style scoped>\n",
       "    .dataframe tbody tr th:only-of-type {\n",
       "        vertical-align: middle;\n",
       "    }\n",
       "\n",
       "    .dataframe tbody tr th {\n",
       "        vertical-align: top;\n",
       "    }\n",
       "\n",
       "    .dataframe thead th {\n",
       "        text-align: right;\n",
       "    }\n",
       "</style>\n",
       "<table border=\"1\" class=\"dataframe\">\n",
       "  <thead>\n",
       "    <tr style=\"text-align: right;\">\n",
       "      <th></th>\n",
       "      <th>consumer_id</th>\n",
       "      <th>service_id</th>\n",
       "      <th>proxy</th>\n",
       "      <th>kong</th>\n",
       "      <th>request</th>\n",
       "      <th>request_host</th>\n",
       "    </tr>\n",
       "  </thead>\n",
       "  <tbody>\n",
       "    <tr>\n",
       "      <th>1</th>\n",
       "      <td>1</td>\n",
       "      <td>1</td>\n",
       "      <td>1836</td>\n",
       "      <td>8</td>\n",
       "      <td>1058</td>\n",
       "      <td>yost.com</td>\n",
       "    </tr>\n",
       "    <tr>\n",
       "      <th>2</th>\n",
       "      <td>2</td>\n",
       "      <td>2</td>\n",
       "      <td>1727</td>\n",
       "      <td>10</td>\n",
       "      <td>2185</td>\n",
       "      <td>labadie.com</td>\n",
       "    </tr>\n",
       "    <tr>\n",
       "      <th>3</th>\n",
       "      <td>3</td>\n",
       "      <td>3</td>\n",
       "      <td>896</td>\n",
       "      <td>9</td>\n",
       "      <td>2129</td>\n",
       "      <td>wisozk.biz</td>\n",
       "    </tr>\n",
       "    <tr>\n",
       "      <th>4</th>\n",
       "      <td>4</td>\n",
       "      <td>4</td>\n",
       "      <td>1209</td>\n",
       "      <td>12</td>\n",
       "      <td>1274</td>\n",
       "      <td>veum.org</td>\n",
       "    </tr>\n",
       "    <tr>\n",
       "      <th>5</th>\n",
       "      <td>5</td>\n",
       "      <td>4</td>\n",
       "      <td>1708</td>\n",
       "      <td>20</td>\n",
       "      <td>2244</td>\n",
       "      <td>ledner.com</td>\n",
       "    </tr>\n",
       "  </tbody>\n",
       "</table>\n",
       "</div>"
      ],
      "text/plain": [
       "   consumer_id  service_id proxy kong request request_host\n",
       "1            1           1  1836    8    1058     yost.com\n",
       "2            2           2  1727   10    2185  labadie.com\n",
       "3            3           3   896    9    2129   wisozk.biz\n",
       "4            4           4  1209   12    1274     veum.org\n",
       "5            5           4  1708   20    2244   ledner.com"
      ]
     },
     "execution_count": 43,
     "metadata": {},
     "output_type": "execute_result"
    }
   ],
   "source": [
    "%%time\n",
    "requisicoes = df.replace({\"consumer_id\": costumer_inv_map, \"service_id\": servicos_inv_map})\\\n",
    ".drop(['host','name'], axis=1)\n",
    "print(len(costumer))\n",
    "requisicoes.head()"
   ]
  },
  {
   "cell_type": "markdown",
   "metadata": {},
   "source": [
    "## Carregando dados no banco"
   ]
  },
  {
   "cell_type": "markdown",
   "metadata": {},
   "source": [
    "### Criando tabelas no sevidor"
   ]
  },
  {
   "cell_type": "code",
   "execution_count": 105,
   "metadata": {},
   "outputs": [],
   "source": [
    "sqlEngine = create_engine('mysql+pymysql://test:@127.0.0.1:3306/test', pool_recycle=3600)\n",
    "dbConnection = sqlEngine.connect()\n",
    "Base = declarative_base()\n",
    "class Requests(Base):\n",
    "    __tablename__ = \"requests\"\n",
    "    index = Column(Integer, Sequence('index_seq'), primary_key=True)\n",
    "    consumer_id = Column(Integer)\n",
    "    service_id = Column(Integer)\n",
    "    proxy = Column(Integer)\n",
    "    kong = Column(Integer)\n",
    "    request = Column(Integer)\n",
    "    request_host = Column(String(100))\n",
    "    \n",
    "class Consumers(Base):\n",
    "    __tablename__=\"consumers\"\n",
    "    index =Column(Integer, Sequence('index_seq'), primary_key=True)\n",
    "    consumer_id = Column(String(200))\n",
    "    \n",
    "class Services(Base):\n",
    "    __tablename__=\"services\"\n",
    "    index= Column(Integer, Sequence('index_seq'), primary_key=True)\n",
    "    service_id = Column(String(200))\n",
    "    host = Column(String(100))\n",
    "    name = Column(String(100))\n",
    "\n",
    "Services.__table__.create(bind=sqlEngine, checkfirst=True) \n",
    "Requests.__table__.create(bind=sqlEngine, checkfirst=True)\n",
    "Consumers.__table__.create(bind=sqlEngine, checkfirst=True)\n",
    "dbConnection.close()"
   ]
  },
  {
   "cell_type": "code",
   "execution_count": 107,
   "metadata": {},
   "outputs": [
    {
     "name": "stdout",
     "output_type": "stream",
     "text": [
      "Tabelas criadas\n"
     ]
    }
   ],
   "source": [
    "try:\n",
    "    sqlEngine = create_engine('mysql+pymysql://test:@127.0.0.1:3306/test', pool_recycle=3600)\n",
    "    dbConnection = sqlEngine.connect()\n",
    "    frame = requisicoes.to_sql(\"requests\", dbConnection, if_exists='append');\n",
    "    frame = costumer.to_sql(\"consumers\", dbConnection, if_exists='append')\n",
    "    frame = servicos.to_sql(\"services\", dbConnection, if_exists='append')\n",
    "except ValueError as vx:\n",
    "    print(vx)\n",
    "except Exception as ex:   \n",
    "    print(ex)\n",
    "else:\n",
    "    print(\"Tabelas criadas\");   \n",
    "finally:\n",
    "    dbConnection.close()"
   ]
  },
  {
   "cell_type": "code",
   "execution_count": 106,
   "metadata": {},
   "outputs": [],
   "source": []
  },
  {
   "cell_type": "code",
   "execution_count": null,
   "metadata": {},
   "outputs": [],
   "source": []
  }
 ],
 "metadata": {
  "kernelspec": {
   "display_name": "Python 3",
   "language": "python",
   "name": "python3"
  },
  "language_info": {
   "codemirror_mode": {
    "name": "ipython",
    "version": 3
   },
   "file_extension": ".py",
   "mimetype": "text/x-python",
   "name": "python",
   "nbconvert_exporter": "python",
   "pygments_lexer": "ipython3",
   "version": "3.8.3"
  }
 },
 "nbformat": 4,
 "nbformat_minor": 4
}
