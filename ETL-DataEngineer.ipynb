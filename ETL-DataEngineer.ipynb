{
 "cells": [
  {
   "cell_type": "markdown",
   "metadata": {},
   "source": [
    "#### Imports"
   ]
  },
  {
   "cell_type": "code",
   "execution_count": 1,
   "metadata": {},
   "outputs": [],
   "source": [
    "import pandas as pd\n",
    "import json\n",
    "from sqlalchemy import create_engine, Column, Integer, String, Sequence, ForeignKey\n",
    "from sqlalchemy.ext.declarative import declarative_base\n",
    "from sqlalchemy.orm import relationship\n",
    "import pymysql\n",
    "from tqdm.notebook import tqdm"
   ]
  },
  {
   "cell_type": "markdown",
   "metadata": {},
   "source": [
    "## Conhecendo os dados"
   ]
  },
  {
   "cell_type": "code",
   "execution_count": 2,
   "metadata": {},
   "outputs": [
    {
     "name": "stdout",
     "output_type": "stream",
     "text": [
      "{\"request\":{\"method\":\"GET\",\"uri\":\"\\/\",\"url\":\"http:\\/\\/cole.com\",\"size\":80,\"querystring\":[],\"headers\":{\"accept\":\"*\\/*\",\"host\":\"cole.com\",\"user-agent\":\"curl\\/7.37.1\"}},\"upstream_uri\":\"\\/\",\"response\":{\"status\":401,\"size\":585,\"headers\":{\"Content-Length\":\"197\",\"via\":\"kong\\/1.3.0\",\"Connection\":\"close\",\"access-control-allow-credentials\":\"true\",\"Content-Type\":\"application\\/json\",\"server\":\"nginx\",\"access-control-allow-origin\":\"*\"}},\"authenticated_entity\":{\"consumer_id\":{\"uuid\":\"631faf11-30ec-355b-bdae-a917c9518a84\"}},\"route\":{\"created_at\":1564823899,\"hosts\":\"miller.com\",\"id\":\"0636a119-b7ee-3828-ae83-5f7ebbb99831\",\"methods\":[\"GET\",\"POST\",\"PUT\",\"DELETE\",\"PATCH\",\"OPTIONS\",\"HEAD\"],\"paths\":[\"\\/\"],\"preserve_host\":false,\"protocols\":[\"http\",\"https\"],\"regex_priority\":0,\"service\":{\"id\":\"c3e86413-648a-3552-90c3-b13491ee07d6\"},\"strip_path\":true,\"updated_at\":1564823899},\"service\":{\"connect_timeout\":60000,\"created_at\":1563589483,\"host\":\"ritchie.com\",\"id\":\"c3e86413-648a-3552-90c3-b13491ee07d6\",\"name\":\"ritchie\",\"path\":\"\\/\",\"port\":80,\"protocol\":\"http\",\"read_timeout\":60000,\"retries\":5,\"updated_at\":1563589483,\"write_timeout\":60000},\"latencies\":{\"proxy\":1325,\"kong\":16,\"request\":2192},\"client_ip\":\"205.83.60.27\",\"started_at\":1546826844}\n",
      "\n"
     ]
    }
   ],
   "source": [
    "file = open('logs_1.txt', 'r')\n",
    "json_list_1 = file.readlines()\n",
    "file.close()\n",
    "file = open('logs_2.txt', 'r')\n",
    "json_list_2 = file.readlines()\n",
    "file.close()\n",
    "json_list = json_list_1 + json_list_2\n",
    "print(json_list[0])"
   ]
  },
  {
   "cell_type": "code",
   "execution_count": 3,
   "metadata": {},
   "outputs": [
    {
     "name": "stdout",
     "output_type": "stream",
     "text": [
      "usuario\n",
      "631faf11-30ec-355b-bdae-a917c9518a84\n",
      "----------------------------\n",
      "serviço\n",
      "c3e86413-648a-3552-90c3-b13491ee07d6\n",
      "ritchie.com\n",
      "ritchie\n",
      "----------------------------\n",
      "latencias\n",
      "1325\n",
      "16\n",
      "2192\n",
      "----------------------------\n",
      "requisicao\n",
      "cole.com\n",
      "----------------------------\n",
      "{'consumer_id': '631faf11-30ec-355b-bdae-a917c9518a84', 'service_id': 'c3e86413-648a-3552-90c3-b13491ee07d6', 'proxy': 1325, 'kong': 16, 'request': 2192, 'host': 'ritchie.com', 'name': 'ritchie', 'request_host': 'cole.com'}\n"
     ]
    }
   ],
   "source": [
    "data = json.loads(json_list[0])\n",
    "print('usuario')\n",
    "print(data[\"authenticated_entity\"][\"consumer_id\"][\"uuid\"])\n",
    "print('----------------------------')\n",
    "print('serviço')\n",
    "print(data[\"service\"][\"id\"])\n",
    "print(data[\"service\"][\"host\"])\n",
    "print(data[\"service\"][\"name\"])\n",
    "print('----------------------------')\n",
    "print('latencias')\n",
    "print(data[\"latencies\"][\"proxy\"])\n",
    "print(data[\"latencies\"][\"kong\"])\n",
    "print(data[\"latencies\"][\"request\"])\n",
    "print('----------------------------')\n",
    "print('requisicao')\n",
    "print(data[\"request\"][\"headers\"][\"host\"])\n",
    "print('----------------------------')\n",
    "serie = {\n",
    "    'consumer_id':data[\"authenticated_entity\"][\"consumer_id\"][\"uuid\"],\n",
    "    'service_id':data[\"service\"][\"id\"],\n",
    "    'proxy':data[\"latencies\"][\"proxy\"],\n",
    "    'kong':data[\"latencies\"][\"kong\"],\n",
    "    'request':data[\"latencies\"][\"request\"],\n",
    "    'host':data[\"service\"][\"host\"],\n",
    "    'name':data[\"service\"][\"name\"],\n",
    "    'request_host':data[\"request\"][\"headers\"][\"host\"]\n",
    "    }\n",
    "print(serie)"
   ]
  },
  {
   "cell_type": "code",
   "execution_count": 4,
   "metadata": {},
   "outputs": [
    {
     "data": {
      "text/html": [
       "<div>\n",
       "<style scoped>\n",
       "    .dataframe tbody tr th:only-of-type {\n",
       "        vertical-align: middle;\n",
       "    }\n",
       "\n",
       "    .dataframe tbody tr th {\n",
       "        vertical-align: top;\n",
       "    }\n",
       "\n",
       "    .dataframe thead th {\n",
       "        text-align: right;\n",
       "    }\n",
       "</style>\n",
       "<table border=\"1\" class=\"dataframe\">\n",
       "  <thead>\n",
       "    <tr style=\"text-align: right;\">\n",
       "      <th></th>\n",
       "      <th>consumer_id</th>\n",
       "      <th>service_id</th>\n",
       "      <th>proxy</th>\n",
       "      <th>kong</th>\n",
       "      <th>request</th>\n",
       "      <th>host</th>\n",
       "      <th>name</th>\n",
       "      <th>request_host</th>\n",
       "    </tr>\n",
       "  </thead>\n",
       "  <tbody>\n",
       "    <tr>\n",
       "      <th>0</th>\n",
       "      <td>631faf11-30ec-355b-bdae-a917c9518a84</td>\n",
       "      <td>c3e86413-648a-3552-90c3-b13491ee07d6</td>\n",
       "      <td>1325</td>\n",
       "      <td>16</td>\n",
       "      <td>2192</td>\n",
       "      <td>ritchie.com</td>\n",
       "      <td>ritchie</td>\n",
       "      <td>cole.com</td>\n",
       "    </tr>\n",
       "  </tbody>\n",
       "</table>\n",
       "</div>"
      ],
      "text/plain": [
       "                            consumer_id                            service_id  \\\n",
       "0  631faf11-30ec-355b-bdae-a917c9518a84  c3e86413-648a-3552-90c3-b13491ee07d6   \n",
       "\n",
       "  proxy kong request         host     name request_host  \n",
       "0  1325   16    2192  ritchie.com  ritchie     cole.com  "
      ]
     },
     "execution_count": 4,
     "metadata": {},
     "output_type": "execute_result"
    }
   ],
   "source": [
    "df = pd.DataFrame(columns = ['consumer_id','service_id','proxy','kong','request','host','name','request_host'])\n",
    "df = df.append(serie,ignore_index=True)\n",
    "df.head()"
   ]
  },
  {
   "cell_type": "markdown",
   "metadata": {},
   "source": [
    "## Extraindo dados relevantes"
   ]
  },
  {
   "cell_type": "code",
   "execution_count": 5,
   "metadata": {},
   "outputs": [
    {
     "name": "stdout",
     "output_type": "stream",
     "text": [
      "100000\n",
      "Wall time: 4.33 s\n"
     ]
    },
    {
     "data": {
      "text/html": [
       "<div>\n",
       "<style scoped>\n",
       "    .dataframe tbody tr th:only-of-type {\n",
       "        vertical-align: middle;\n",
       "    }\n",
       "\n",
       "    .dataframe tbody tr th {\n",
       "        vertical-align: top;\n",
       "    }\n",
       "\n",
       "    .dataframe thead th {\n",
       "        text-align: right;\n",
       "    }\n",
       "</style>\n",
       "<table border=\"1\" class=\"dataframe\">\n",
       "  <thead>\n",
       "    <tr style=\"text-align: right;\">\n",
       "      <th></th>\n",
       "      <th>consumer_id</th>\n",
       "      <th>service_id</th>\n",
       "      <th>proxy</th>\n",
       "      <th>kong</th>\n",
       "      <th>request</th>\n",
       "      <th>host</th>\n",
       "      <th>name</th>\n",
       "      <th>request_host</th>\n",
       "    </tr>\n",
       "  </thead>\n",
       "  <tbody>\n",
       "    <tr>\n",
       "      <th>1</th>\n",
       "      <td>631faf11-30ec-355b-bdae-a917c9518a84</td>\n",
       "      <td>c3e86413-648a-3552-90c3-b13491ee07d6</td>\n",
       "      <td>1325</td>\n",
       "      <td>16</td>\n",
       "      <td>2192</td>\n",
       "      <td>ritchie.com</td>\n",
       "      <td>ritchie</td>\n",
       "      <td>cole.com</td>\n",
       "    </tr>\n",
       "    <tr>\n",
       "      <th>2</th>\n",
       "      <td>3de80f20-4109-37f0-85af-7a920384e3eb</td>\n",
       "      <td>d035ffcf-914a-3007-b028-ae18f04d75b4</td>\n",
       "      <td>1686</td>\n",
       "      <td>17</td>\n",
       "      <td>1891</td>\n",
       "      <td>terry.org</td>\n",
       "      <td>terry</td>\n",
       "      <td>kertzmann.com</td>\n",
       "    </tr>\n",
       "    <tr>\n",
       "      <th>3</th>\n",
       "      <td>3b6fdb67-1049-377a-9d46-6538aa8cc1e2</td>\n",
       "      <td>a5bf08bd-c030-30d5-8009-83a8c30103bf</td>\n",
       "      <td>1105</td>\n",
       "      <td>12</td>\n",
       "      <td>1059</td>\n",
       "      <td>orn.com</td>\n",
       "      <td>orn</td>\n",
       "      <td>lowe.com</td>\n",
       "    </tr>\n",
       "    <tr>\n",
       "      <th>4</th>\n",
       "      <td>e49e2600-ce15-3004-a1b0-129b84fda7f8</td>\n",
       "      <td>22f8e3a6-01f7-3264-b4b5-9d178df11d06</td>\n",
       "      <td>937</td>\n",
       "      <td>13</td>\n",
       "      <td>2279</td>\n",
       "      <td>sauer.com</td>\n",
       "      <td>sauer</td>\n",
       "      <td>abbott.biz</td>\n",
       "    </tr>\n",
       "    <tr>\n",
       "      <th>5</th>\n",
       "      <td>2c69f722-b348-3f44-8b26-3a409dcb0396</td>\n",
       "      <td>c3e86413-648a-3552-90c3-b13491ee07d6</td>\n",
       "      <td>1388</td>\n",
       "      <td>20</td>\n",
       "      <td>1209</td>\n",
       "      <td>ritchie.com</td>\n",
       "      <td>ritchie</td>\n",
       "      <td>lubowitz.com</td>\n",
       "    </tr>\n",
       "  </tbody>\n",
       "</table>\n",
       "</div>"
      ],
      "text/plain": [
       "                            consumer_id                            service_id  \\\n",
       "1  631faf11-30ec-355b-bdae-a917c9518a84  c3e86413-648a-3552-90c3-b13491ee07d6   \n",
       "2  3de80f20-4109-37f0-85af-7a920384e3eb  d035ffcf-914a-3007-b028-ae18f04d75b4   \n",
       "3  3b6fdb67-1049-377a-9d46-6538aa8cc1e2  a5bf08bd-c030-30d5-8009-83a8c30103bf   \n",
       "4  e49e2600-ce15-3004-a1b0-129b84fda7f8  22f8e3a6-01f7-3264-b4b5-9d178df11d06   \n",
       "5  2c69f722-b348-3f44-8b26-3a409dcb0396  c3e86413-648a-3552-90c3-b13491ee07d6   \n",
       "\n",
       "  proxy kong request         host     name   request_host  \n",
       "1  1325   16    2192  ritchie.com  ritchie       cole.com  \n",
       "2  1686   17    1891    terry.org    terry  kertzmann.com  \n",
       "3  1105   12    1059      orn.com      orn       lowe.com  \n",
       "4   937   13    2279    sauer.com    sauer     abbott.biz  \n",
       "5  1388   20    1209  ritchie.com  ritchie   lubowitz.com  "
      ]
     },
     "execution_count": 5,
     "metadata": {},
     "output_type": "execute_result"
    }
   ],
   "source": [
    "%%time\n",
    "df = pd.DataFrame(columns = ['consumer_id','service_id','proxy','kong','request','host','name','request_host'])\n",
    "serie_list = []\n",
    "for json_str in json_list:\n",
    "    data = json.loads(json_str)\n",
    "    serie = {\n",
    "    'consumer_id':data[\"authenticated_entity\"][\"consumer_id\"][\"uuid\"],\n",
    "    'service_id':data[\"service\"][\"id\"],\n",
    "    'proxy':data[\"latencies\"][\"proxy\"],\n",
    "    'kong':data[\"latencies\"][\"kong\"],\n",
    "    'request':data[\"latencies\"][\"request\"],\n",
    "    'host':data[\"service\"][\"host\"],\n",
    "    'name':data[\"service\"][\"name\"],\n",
    "    'request_host':data[\"request\"][\"headers\"][\"host\"]\n",
    "    }\n",
    "    serie_list.append(serie)\n",
    "    \n",
    "df = df.append(serie_list,ignore_index=True)\n",
    "print(len(df))\n",
    "df.index += 1\n",
    "df.head()"
   ]
  },
  {
   "cell_type": "markdown",
   "metadata": {},
   "source": [
    "## Aplicando transformações nos dados"
   ]
  },
  {
   "cell_type": "markdown",
   "metadata": {},
   "source": [
    "### Tabela de serviços"
   ]
  },
  {
   "cell_type": "code",
   "execution_count": 6,
   "metadata": {},
   "outputs": [
    {
     "data": {
      "text/html": [
       "<div>\n",
       "<style scoped>\n",
       "    .dataframe tbody tr th:only-of-type {\n",
       "        vertical-align: middle;\n",
       "    }\n",
       "\n",
       "    .dataframe tbody tr th {\n",
       "        vertical-align: top;\n",
       "    }\n",
       "\n",
       "    .dataframe thead th {\n",
       "        text-align: right;\n",
       "    }\n",
       "</style>\n",
       "<table border=\"1\" class=\"dataframe\">\n",
       "  <thead>\n",
       "    <tr style=\"text-align: right;\">\n",
       "      <th></th>\n",
       "      <th>service_id</th>\n",
       "      <th>host</th>\n",
       "      <th>name</th>\n",
       "    </tr>\n",
       "  </thead>\n",
       "  <tbody>\n",
       "    <tr>\n",
       "      <th>1</th>\n",
       "      <td>c3e86413-648a-3552-90c3-b13491ee07d6</td>\n",
       "      <td>ritchie.com</td>\n",
       "      <td>ritchie</td>\n",
       "    </tr>\n",
       "    <tr>\n",
       "      <th>2</th>\n",
       "      <td>d035ffcf-914a-3007-b028-ae18f04d75b4</td>\n",
       "      <td>terry.org</td>\n",
       "      <td>terry</td>\n",
       "    </tr>\n",
       "    <tr>\n",
       "      <th>3</th>\n",
       "      <td>a5bf08bd-c030-30d5-8009-83a8c30103bf</td>\n",
       "      <td>orn.com</td>\n",
       "      <td>orn</td>\n",
       "    </tr>\n",
       "    <tr>\n",
       "      <th>4</th>\n",
       "      <td>22f8e3a6-01f7-3264-b4b5-9d178df11d06</td>\n",
       "      <td>sauer.com</td>\n",
       "      <td>sauer</td>\n",
       "    </tr>\n",
       "    <tr>\n",
       "      <th>5</th>\n",
       "      <td>eb1ce287-5797-3e45-b9a6-e6d51691257e</td>\n",
       "      <td>corkery.com</td>\n",
       "      <td>corkery</td>\n",
       "    </tr>\n",
       "  </tbody>\n",
       "</table>\n",
       "</div>"
      ],
      "text/plain": [
       "                             service_id         host     name\n",
       "1  c3e86413-648a-3552-90c3-b13491ee07d6  ritchie.com  ritchie\n",
       "2  d035ffcf-914a-3007-b028-ae18f04d75b4    terry.org    terry\n",
       "3  a5bf08bd-c030-30d5-8009-83a8c30103bf      orn.com      orn\n",
       "4  22f8e3a6-01f7-3264-b4b5-9d178df11d06    sauer.com    sauer\n",
       "5  eb1ce287-5797-3e45-b9a6-e6d51691257e  corkery.com  corkery"
      ]
     },
     "execution_count": 6,
     "metadata": {},
     "output_type": "execute_result"
    }
   ],
   "source": [
    "servicos = df.drop_duplicates(subset=['service_id']).reset_index(drop=True)\\\n",
    ".drop(['consumer_id','proxy','kong','request','request_host'], axis=1)\n",
    "servicos.index += 1\n",
    "servicos_map = servicos['service_id'].to_dict()\n",
    "servicos_inv_map = {v: k for k, v in servicos_map.items()}\n",
    "servicos.head()"
   ]
  },
  {
   "cell_type": "markdown",
   "metadata": {},
   "source": [
    "### Tabela de Consumidores"
   ]
  },
  {
   "cell_type": "code",
   "execution_count": 7,
   "metadata": {},
   "outputs": [
    {
     "name": "stdout",
     "output_type": "stream",
     "text": [
      "9999\n"
     ]
    },
    {
     "data": {
      "text/html": [
       "<div>\n",
       "<style scoped>\n",
       "    .dataframe tbody tr th:only-of-type {\n",
       "        vertical-align: middle;\n",
       "    }\n",
       "\n",
       "    .dataframe tbody tr th {\n",
       "        vertical-align: top;\n",
       "    }\n",
       "\n",
       "    .dataframe thead th {\n",
       "        text-align: right;\n",
       "    }\n",
       "</style>\n",
       "<table border=\"1\" class=\"dataframe\">\n",
       "  <thead>\n",
       "    <tr style=\"text-align: right;\">\n",
       "      <th></th>\n",
       "      <th>consumer_id</th>\n",
       "    </tr>\n",
       "  </thead>\n",
       "  <tbody>\n",
       "    <tr>\n",
       "      <th>1</th>\n",
       "      <td>631faf11-30ec-355b-bdae-a917c9518a84</td>\n",
       "    </tr>\n",
       "    <tr>\n",
       "      <th>2</th>\n",
       "      <td>3de80f20-4109-37f0-85af-7a920384e3eb</td>\n",
       "    </tr>\n",
       "    <tr>\n",
       "      <th>3</th>\n",
       "      <td>3b6fdb67-1049-377a-9d46-6538aa8cc1e2</td>\n",
       "    </tr>\n",
       "    <tr>\n",
       "      <th>4</th>\n",
       "      <td>e49e2600-ce15-3004-a1b0-129b84fda7f8</td>\n",
       "    </tr>\n",
       "    <tr>\n",
       "      <th>5</th>\n",
       "      <td>2c69f722-b348-3f44-8b26-3a409dcb0396</td>\n",
       "    </tr>\n",
       "  </tbody>\n",
       "</table>\n",
       "</div>"
      ],
      "text/plain": [
       "                            consumer_id\n",
       "1  631faf11-30ec-355b-bdae-a917c9518a84\n",
       "2  3de80f20-4109-37f0-85af-7a920384e3eb\n",
       "3  3b6fdb67-1049-377a-9d46-6538aa8cc1e2\n",
       "4  e49e2600-ce15-3004-a1b0-129b84fda7f8\n",
       "5  2c69f722-b348-3f44-8b26-3a409dcb0396"
      ]
     },
     "execution_count": 7,
     "metadata": {},
     "output_type": "execute_result"
    }
   ],
   "source": [
    "costumer = df.drop_duplicates(subset=['consumer_id']).reset_index(drop=True)\\\n",
    ".drop(['service_id','proxy','kong','request','host','name','request_host'], axis=1)\n",
    "costumer.index += 1\n",
    "print(len(costumer))\n",
    "costumer_map = costumer['consumer_id'].to_dict()\n",
    "costumer_inv_map = {v: k for k, v in costumer_map.items()}\n",
    "costumer.head()"
   ]
  },
  {
   "cell_type": "markdown",
   "metadata": {},
   "source": [
    "### Tabela de Requisições"
   ]
  },
  {
   "cell_type": "code",
   "execution_count": 8,
   "metadata": {},
   "outputs": [
    {
     "name": "stdout",
     "output_type": "stream",
     "text": [
      "9999\n",
      "Wall time: 1min 43s\n"
     ]
    },
    {
     "data": {
      "text/html": [
       "<div>\n",
       "<style scoped>\n",
       "    .dataframe tbody tr th:only-of-type {\n",
       "        vertical-align: middle;\n",
       "    }\n",
       "\n",
       "    .dataframe tbody tr th {\n",
       "        vertical-align: top;\n",
       "    }\n",
       "\n",
       "    .dataframe thead th {\n",
       "        text-align: right;\n",
       "    }\n",
       "</style>\n",
       "<table border=\"1\" class=\"dataframe\">\n",
       "  <thead>\n",
       "    <tr style=\"text-align: right;\">\n",
       "      <th></th>\n",
       "      <th>consumer_id</th>\n",
       "      <th>service_id</th>\n",
       "      <th>proxy</th>\n",
       "      <th>kong</th>\n",
       "      <th>request</th>\n",
       "      <th>request_host</th>\n",
       "    </tr>\n",
       "  </thead>\n",
       "  <tbody>\n",
       "    <tr>\n",
       "      <th>1</th>\n",
       "      <td>1</td>\n",
       "      <td>1</td>\n",
       "      <td>1325</td>\n",
       "      <td>16</td>\n",
       "      <td>2192</td>\n",
       "      <td>cole.com</td>\n",
       "    </tr>\n",
       "    <tr>\n",
       "      <th>2</th>\n",
       "      <td>2</td>\n",
       "      <td>2</td>\n",
       "      <td>1686</td>\n",
       "      <td>17</td>\n",
       "      <td>1891</td>\n",
       "      <td>kertzmann.com</td>\n",
       "    </tr>\n",
       "    <tr>\n",
       "      <th>3</th>\n",
       "      <td>3</td>\n",
       "      <td>3</td>\n",
       "      <td>1105</td>\n",
       "      <td>12</td>\n",
       "      <td>1059</td>\n",
       "      <td>lowe.com</td>\n",
       "    </tr>\n",
       "    <tr>\n",
       "      <th>4</th>\n",
       "      <td>4</td>\n",
       "      <td>4</td>\n",
       "      <td>937</td>\n",
       "      <td>13</td>\n",
       "      <td>2279</td>\n",
       "      <td>abbott.biz</td>\n",
       "    </tr>\n",
       "    <tr>\n",
       "      <th>5</th>\n",
       "      <td>5</td>\n",
       "      <td>1</td>\n",
       "      <td>1388</td>\n",
       "      <td>20</td>\n",
       "      <td>1209</td>\n",
       "      <td>lubowitz.com</td>\n",
       "    </tr>\n",
       "  </tbody>\n",
       "</table>\n",
       "</div>"
      ],
      "text/plain": [
       "   consumer_id  service_id proxy kong request   request_host\n",
       "1            1           1  1325   16    2192       cole.com\n",
       "2            2           2  1686   17    1891  kertzmann.com\n",
       "3            3           3  1105   12    1059       lowe.com\n",
       "4            4           4   937   13    2279     abbott.biz\n",
       "5            5           1  1388   20    1209   lubowitz.com"
      ]
     },
     "execution_count": 8,
     "metadata": {},
     "output_type": "execute_result"
    }
   ],
   "source": [
    "%%time\n",
    "requisicoes = df.replace({\"consumer_id\": costumer_inv_map, \"service_id\": servicos_inv_map})\\\n",
    ".drop(['host','name'], axis=1)\n",
    "print(len(costumer))\n",
    "requisicoes.head()"
   ]
  },
  {
   "cell_type": "markdown",
   "metadata": {},
   "source": [
    "## Carregando dados no banco"
   ]
  },
  {
   "cell_type": "markdown",
   "metadata": {},
   "source": [
    "### Criando tabelas no sevidor"
   ]
  },
  {
   "cell_type": "code",
   "execution_count": 9,
   "metadata": {},
   "outputs": [],
   "source": [
    "user = 'test:1234'\n",
    "dbPath = 'mysql+pymysql://'+ user +'@127.0.0.1:3306/test'\n",
    "sqlEngine = create_engine(dbPath, pool_recycle=3600)\n",
    "dbConnection = sqlEngine.connect()\n",
    "Base = declarative_base()\n",
    "\n",
    "class Consumers(Base):\n",
    "    __tablename__=\"consumers\"\n",
    "    index =Column(Integer, Sequence('index_seq'), primary_key=True)\n",
    "    consumer_id = Column(String(200))\n",
    "    \n",
    "class Services(Base):\n",
    "    __tablename__=\"services\"\n",
    "    index= Column(Integer, Sequence('index_seq'), primary_key=True)\n",
    "    service_id = Column(String(200))\n",
    "    host = Column(String(100))\n",
    "    name = Column(String(100))\n",
    "\n",
    "class Requests(Base):\n",
    "    __tablename__ = \"requests\"\n",
    "    index = Column(Integer, Sequence('index_seq'), primary_key=True)\n",
    "    consumer_id = Column(Integer, ForeignKey(Consumers.index))\n",
    "    service_id = Column(Integer,ForeignKey(Services.index))\n",
    "    proxy = Column(Integer)\n",
    "    kong = Column(Integer)\n",
    "    request = Column(Integer)\n",
    "    request_host = Column(String(100))\n",
    "    consumer = relationship('Consumers', foreign_keys='Consumers.index')\n",
    "    Service = relationship('Services', foreign_keys='Services.index')\n",
    "\n",
    "Consumers.__table__.create(bind=sqlEngine, checkfirst=True)\n",
    "Services.__table__.create(bind=sqlEngine, checkfirst=True) \n",
    "Requests.__table__.create(bind=sqlEngine, checkfirst=True)\n",
    "dbConnection.close()"
   ]
  },
  {
   "cell_type": "markdown",
   "metadata": {},
   "source": [
    "### Colocanda dados nas tabelas"
   ]
  },
  {
   "cell_type": "code",
   "execution_count": 10,
   "metadata": {},
   "outputs": [
    {
     "name": "stdout",
     "output_type": "stream",
     "text": [
      "Tabelas criadas\n"
     ]
    }
   ],
   "source": [
    "try:\n",
    "    sqlEngine = create_engine(dbPath, pool_recycle=3600)\n",
    "    dbConnection = sqlEngine.connect()\n",
    "    frame = costumer.to_sql(\"consumers\", dbConnection, if_exists='append')\n",
    "    frame = servicos.to_sql(\"services\", dbConnection, if_exists='append')\n",
    "    frame = requisicoes.to_sql(\"requests\", dbConnection, if_exists='append');\n",
    "except ValueError as vx:\n",
    "    print(vx)\n",
    "except Exception as ex:   \n",
    "    print(ex)\n",
    "else:\n",
    "    print(\"Tabelas criadas\");   \n",
    "finally:\n",
    "    dbConnection.close()"
   ]
  },
  {
   "cell_type": "markdown",
   "metadata": {},
   "source": [
    "## Gerando Relatórios Requisitados"
   ]
  },
  {
   "cell_type": "markdown",
   "metadata": {},
   "source": [
    "### Requisições por consumidor"
   ]
  },
  {
   "cell_type": "code",
   "execution_count": 11,
   "metadata": {},
   "outputs": [
    {
     "data": {
      "application/vnd.jupyter.widget-view+json": {
       "model_id": "07085f1010a14bb0899f6e0085ea2800",
       "version_major": 2,
       "version_minor": 0
      },
      "text/plain": [
       "HBox(children=(FloatProgress(value=0.0, max=9999.0), HTML(value='')))"
      ]
     },
     "metadata": {},
     "output_type": "display_data"
    },
    {
     "name": "stdout",
     "output_type": "stream",
     "text": [
      "\n",
      "Requsições por consumidor salvas em consumers/\n"
     ]
    }
   ],
   "source": [
    "sqlEngine = create_engine(dbPath, pool_recycle=3600)\n",
    "dbConnection = sqlEngine.connect()\n",
    "consumers = pd.read_sql_query('select * from consumers', dbConnection, index_col='index')\n",
    "for consumer in tqdm(consumers.iterrows(), total=consumers.shape[0]):\n",
    "    querry = 'select \\\n",
    "                r.index,\\\n",
    "                r.proxy,\\\n",
    "                r.kong,\\\n",
    "                r.request,\\\n",
    "                r.request_host,\\\n",
    "                s.service_id \\\n",
    "            from \\\n",
    "            test.requests as r \\\n",
    "            inner join test.services as s \\\n",
    "            on r.service_id = s.index \\\n",
    "            and r.service_id = ' + str(consumer[0])\n",
    "    pd.read_sql_query(querry, dbConnection, index_col='index').to_csv('consumers/' + consumer[1][0] +'.csv')\n",
    "dbConnection.close()\n",
    "print('Requsições por consumidor salvas em consumers/')"
   ]
  },
  {
   "cell_type": "markdown",
   "metadata": {},
   "source": [
    "### Requisições por serviço"
   ]
  },
  {
   "cell_type": "code",
   "execution_count": 12,
   "metadata": {},
   "outputs": [
    {
     "data": {
      "application/vnd.jupyter.widget-view+json": {
       "model_id": "eb61f9488367452fb4b7ecd51629c674",
       "version_major": 2,
       "version_minor": 0
      },
      "text/plain": [
       "HBox(children=(FloatProgress(value=0.0, max=5.0), HTML(value='')))"
      ]
     },
     "metadata": {},
     "output_type": "display_data"
    },
    {
     "name": "stdout",
     "output_type": "stream",
     "text": [
      "\n",
      "Requsições por serviço salvas em services/\n"
     ]
    }
   ],
   "source": [
    "sqlEngine = create_engine(dbPath, pool_recycle=3600)\n",
    "dbConnection = sqlEngine.connect()\n",
    "services = pd.read_sql_query('select * from services', dbConnection, index_col='index')\n",
    "for service in tqdm(services.iterrows(), total=services.shape[0]):\n",
    "    querry = 'select \\\n",
    "                r.index,\\\n",
    "                r.proxy,\\\n",
    "                r.kong,\\\n",
    "                r.request,\\\n",
    "                r.request_host,\\\n",
    "                s.service_id \\\n",
    "            from \\\n",
    "                test.requests as r \\\n",
    "            inner join test.services as s \\\n",
    "            on r.service_id = s.index \\\n",
    "            and r.service_id = ' + str(service[0])\n",
    "    pd.read_sql_query(querry, dbConnection, index_col='index').to_csv('services/' + service[1][0] +'.csv')\n",
    "dbConnection.close()\n",
    "print('Requsições por serviço salvas em services/')"
   ]
  },
  {
   "cell_type": "markdown",
   "metadata": {},
   "source": [
    "### Tempo médio de request, proxy e kong por serviço"
   ]
  },
  {
   "cell_type": "code",
   "execution_count": 13,
   "metadata": {},
   "outputs": [
    {
     "name": "stdout",
     "output_type": "stream",
     "text": [
      "Tempo médio de request, proxy e kong por serviço salvo em services/\n"
     ]
    }
   ],
   "source": [
    "sqlEngine = create_engine(dbPath, pool_recycle=3600)\n",
    "dbConnection = sqlEngine.connect()\n",
    "querry='select \\\n",
    "            avg(sd.proxy) as \"proxy\", \\\n",
    "            avg(sd.kong) as \"kong\", \\\n",
    "            avg(sd.request) as \"request\", \\\n",
    "            sd.service_id as \"service_id\" \\\n",
    "        from \\\n",
    "            (select \\\n",
    "                r.index, \\\n",
    "                r.proxy, \\\n",
    "                r.kong, \\\n",
    "                r.request, \\\n",
    "                r.request_host, \\\n",
    "                s.service_id \\\n",
    "            from \\\n",
    "            test.requests as r \\\n",
    "            inner join test.services as s on r.service_id = s.index) as sd \\\n",
    "        group by sd.service_id'\n",
    "pd.read_sql_query(querry, dbConnection).to_csv('services/medias_por_servico.csv')\n",
    "dbConnection.close()\n",
    "print('Tempo médio de request, proxy e kong por serviço salvo em services/')"
   ]
  }
 ],
 "metadata": {
  "kernelspec": {
   "display_name": "Python 3",
   "language": "python",
   "name": "python3"
  },
  "language_info": {
   "codemirror_mode": {
    "name": "ipython",
    "version": 3
   },
   "file_extension": ".py",
   "mimetype": "text/x-python",
   "name": "python",
   "nbconvert_exporter": "python",
   "pygments_lexer": "ipython3",
   "version": "3.8.3"
  }
 },
 "nbformat": 4,
 "nbformat_minor": 4
}
